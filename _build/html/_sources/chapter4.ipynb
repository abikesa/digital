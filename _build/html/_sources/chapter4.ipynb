{
 "cells": [
  {
   "cell_type": "markdown",
   "metadata": {},
   "source": [
    "# Now Lets Get Down to Technical Stuff\n",
    "\n",
    "Let's start by reproducing some old results\n",
    "\n",
    "## Old results\n",
    "\n",
    "<iframe src=\"https://muzaale.github.io/thesis/act_0/act_0_1/act_0_1_0/act_0_1_0_1.html\" width=\"100%\" height=\"600px\" style=\"borders:none\"></iframe>\n",
    "\n",
    "## Source population\n",
    "\n",
    "<iframe src=\"https://abikesa.github.io/flow/abikesa_stata.html#semiparametric\" width=\"100%\" height=\"600px\" style=\"borders:none\"></iframe>\n",
    "\n",
    "## Extract vector-matrix\n",
    "\n",
    "<iframe src=\"https://abikesa.github.io/flow/_downloads/57876abeb3d25f47b41ed9b178f3d2c7/jamascript-m.pdf\" width=\"100%\" height=\"600px\" style=\"borders:none\"></iframe>"
   ]
  },
  {
   "cell_type": "code",
   "execution_count": 50,
   "metadata": {
    "tags": [
     "hide-input",
     "hide-output"
    ]
   },
   "outputs": [
    {
     "name": "stdout",
     "output_type": "stream",
     "text": [
      "\n",
      "\n",
      "        Failure _d: rSMGJcEdF_d==2\n",
      "  Analysis time _t: (rSMGJcEdF_tT-origin)/365.25\n",
      "            Origin: time rSMGJcEdF_t0\n",
      "\n",
      "Iteration 0:  Log likelihood = -54332.522\n",
      "Iteration 1:  Log likelihood =  -52993.14\n",
      "Iteration 2:  Log likelihood = -51472.516\n",
      "Iteration 3:  Log likelihood = -49543.907\n",
      "Iteration 4:  Log likelihood =  -49520.68\n",
      "Iteration 5:  Log likelihood = -49520.548\n",
      "Iteration 6:  Log likelihood = -49520.548\n",
      "Refining estimates:\n",
      "Iteration 0:  Log likelihood = -49520.548\n",
      "\n",
      "Cox regression with Breslow method for ties\n",
      "\n",
      "No. of subjects =     113,657                          Number of obs = 113,657\n",
      "No. of failures =       4,937\n",
      "Time at risk    = 999,633.484\n",
      "                                                       LR chi2(2)    = 9623.95\n",
      "Log likelihood = -49520.548                            Prob > chi2   =  0.0000\n",
      "\n",
      "-------------------------------------------------------------------------------\n",
      "           _t | Haz. ratio   Std. err.      z    P>|z|     [95% conf. interval]\n",
      "--------------+----------------------------------------------------------------\n",
      "        donor |\n",
      "HealthyNon~r  |   4.341779   .2130915    29.92   0.000     3.943586    4.780178\n",
      "NotSoHealt~r  |   26.88098   1.007964    87.78   0.000     24.97625    28.93096\n",
      "-------------------------------------------------------------------------------\n",
      "\n",
      "     +-------------------------------+\n",
      "     |        s0          _t   donor |\n",
      "     |-------------------------------|\n",
      "  1. | .98566928   11.277207   Donor |\n",
      "  2. | .99256749   6.8281999   Donor |\n",
      "  3. | .99351642   6.1711157   Donor |\n",
      "  4. | .99402483   5.6919918   Donor |\n",
      "  5. | .98475171   11.816564   Donor |\n",
      "     |-------------------------------|\n",
      "  6. | .99934972   .90622861   Donor |\n",
      "  7. | .98705221   10.472279   Donor |\n",
      "  8. |  .9879412   9.8754278   Donor |\n",
      "  9. | .98766713   10.064339   Donor |\n",
      " 10. | .99994059   .08761123   Donor |\n",
      "     +-------------------------------+\n"
     ]
    }
   ],
   "source": [
    "qui {\n",
    "capture log close \n",
    "log using jamascript.log, replace \n",
    "global repo https://github.com/muzaale/forum/raw/main/ \n",
    "/*--Edit this Line --*/\n",
    "global dir ~/documents/liveserver/age/\n",
    "// cls; some commands don't work outside Stata!!\n",
    "/*noi di \"What is your work directory?\" _request(workdir)\n",
    "if \"$workdir\" == \"\" {\n",
    "\tdi as err \"Please provide your work directory\"\n",
    "\texit\n",
    "}\n",
    "else {\n",
    "\tcd $workdir\n",
    "\tnoi di \"jamascript is running ...\"\n",
    "}\n",
    "*/\n",
    "use ${repo}esrdRisk_t02tT, clear\n",
    "tab donor rSMGJcEdF_d\n",
    "g entry = rSMGJcEdF_t0\n",
    "//linkage for donors after 2011 is untrustworthy\n",
    "replace rSMGJcEdF_d=0 if rSMGJcEdF_tT > d(31dec2011)\n",
    "replace rSMGJcEdF_tT = d(31dec2011) if rSMGJcEdF_tT > d(31dec2011)\n",
    "//linkage before 1994 is untrustworthy\n",
    "#delimit ;\n",
    "replace entry = d(01jan1994) if  \n",
    "    entry < d(01jan1994) &  \n",
    "\trSMGJcEdF_tT > d(01jan1994); \n",
    "stset rSMGJcEdF_tT,  \n",
    "    origin(rSMGJcEdF_t0)  \n",
    "\tentry(`entry')  \n",
    "\tfail(rSMGJcEdF_d==2)  \n",
    "\tscale(365.25); \n",
    "#delimit cr \n",
    "sts list, fail by(donor) at(5 12 15) saving(km, replace ) \n",
    "preserve  \n",
    "    use km, clear  \n",
    "\treplace failure=failure*100\n",
    "    sum failure if donor==1 & time==5\n",
    "\tlocal don5y: di %3.2f r(mean)\n",
    "    sum failure if donor==1 & time==12\n",
    "\tlocal don12y: di %3.2f r(mean)\n",
    "\tsum failure if donor==1 & time==15\n",
    "\tlocal don15y: di %3.2f r(mean)\n",
    "\t//\n",
    "    sum failure if donor==2 & time==5\n",
    "\tlocal hnd5y: di %3.2f r(mean)\n",
    "    sum failure if donor==2 & time==12\n",
    "\tlocal hnd12y: di %3.2f r(mean)\n",
    "\tsum failure if donor==2 & time==15\n",
    "\tlocal hnd15y: di %3.2f r(mean)\n",
    "\t//\n",
    "    sum failure if donor==3 & time==5\n",
    "\tlocal gpop5y: di %3.2f r(mean)\n",
    "    sum failure if donor==3 & time==12\n",
    "\tlocal gpop12y: di %3.2f r(mean)\n",
    "\tsum failure if donor==3 & time==15\n",
    "\tlocal gpop15y: di %3.2f r(mean)\n",
    "restore \n",
    "#delimit ;\n",
    "sts graph, \n",
    "    by(donor)  \n",
    "    fail \n",
    "\tper(100)  \n",
    "\txlab(0(3)15) \n",
    "\tylab(0(10)40,  \n",
    "\t    format(%2.0f))  \n",
    "\ttmax(15)  \n",
    "\trisktable(, color(stc1) group (1)  \n",
    "\t    order(3 \" \" 2 \" \" 1 \" \")  \n",
    "\t\tti(\"#\")  \n",
    "\t) \n",
    "\trisktable(, color(stc2) group(2))  \n",
    "\trisktable(, color(stc3) group(3))  \n",
    "\tlegend(on \n",
    "\tring(0)  \n",
    "\t    pos(11)  \n",
    "\t   order(3 2 1)  \n",
    "\t   lab(3 \"General population\")  \n",
    "\t   lab(2 \"Healthy nondonor\")  \n",
    "\t   lab(1 \"Living donor\")  \n",
    "\t)  \n",
    "\tti(\"Morte\")  \n",
    "\ttext(`don5y' 5 \"`don5y'%\", col(stc1))  \n",
    "\ttext(`don12y' 12 \"`don12y'%\", col(stc1))  \n",
    "\ttext(`don15y' 15 \"`don15y'%\", col(stc1))  \n",
    "\ttext(`hnd5y' 5 \"`hnd5y'%\", col(stc2))  \n",
    "\ttext(`hnd12y' 12 \"`hnd12y'%\", col(stc2)) \n",
    "\ttext(`hnd15y' 15 \"`hnd15y'%\", col(stc2))  \n",
    "\ttext(`gpop5y' 5 \"`gpop5y'%\", col(stc3))  \n",
    "\ttext(`gpop12y' 12 \"`gpop12y'%\", col(stc3))  \n",
    "\ttext(`gpop15y' 15 \"`gpop15y'%\", col(stc3));\n",
    "#delimit cr\n",
    "\n",
    "graph export ${dir}jamascript.png, replace \n",
    "keep _* entry age_t0 female race donor\n",
    "rename age_t0 age\n",
    "//dataset\n",
    "save ${dir}jamascript.dta, replace \n",
    "noi stcox i.donor, basesurv(s0)\n",
    "noi list s0 _t donor in 1/10\n",
    "matrix define b=e(b)\n",
    "keep s0 _t \n",
    "//s0\n",
    "sort _t s0\n",
    "list in 1/10\n",
    "save ${dir}s0.dta, replace \n",
    "export delimited using ${dir}s0.csv, replace \n",
    "matrix beta = e(b)\n",
    "svmat beta \n",
    "keep beta*\n",
    "drop if missing(beta1)\n",
    "//betas\n",
    "list \n",
    "save b.dta, replace \n",
    "export delimited using ${dir}b.csv, replace \n",
    "log close \n",
    "//noi ls\n",
    "} \n",
    " "
   ]
  },
  {
   "cell_type": "markdown",
   "metadata": {},
   "source": [
    "[logfile](https://github.com/abikesa//digital/raw/main/jamascript.log)  \n",
    "\n",
    "#\n",
    "\n",
    "![figure](jamascript.png)"
   ]
  },
  {
   "cell_type": "code",
   "execution_count": 66,
   "metadata": {
    "tags": [
     "hide-input",
     "hide-output"
    ]
   },
   "outputs": [
    {
     "name": "stdout",
     "output_type": "stream",
     "text": [
      "\n",
      "(Live Kidney Donors + NHANES III Nondonors, Unmatched time_tT + CMS)\n",
      "\n",
      "\n",
      "                     |           rSMGJcEdF_d\n",
      "               donor |  Censored       ESRD       Died |     Total\n",
      "---------------------+---------------------------------+----------\n",
      "               Donor |    95,184         99        934 |    96,217 \n",
      "     HealthyNondonor |     8,570         17        777 |     9,364 \n",
      "NotSoHealthyNondonor |     4,694        154      3,228 |     8,076 \n",
      "---------------------+---------------------------------+----------\n",
      "               Total |   108,448        270      4,939 |   113,657 \n",
      "\n",
      "\n",
      "(2 real changes made)\n",
      "\n",
      "(95,132 real changes made)\n",
      "\n",
      "(14,748 real changes made)\n",
      "\n",
      "\n",
      "Survival-time data settings\n",
      "\n",
      "         Failure event: rSMGJcEdF_d==2\n",
      "Observed time interval: (origin, rSMGJcEdF_tT]\n",
      "     Exit on or before: failure\n",
      "     Time for analysis: (time-origin)/365.25\n",
      "                Origin: time rSMGJcEdF_t0\n",
      "\n",
      "--------------------------------------------------------------------------\n",
      "    113,657  total observations\n",
      "          0  exclusions\n",
      "--------------------------------------------------------------------------\n",
      "    113,657  observations remaining, representing\n",
      "      4,937  failures in single-record/single-failure data\n",
      " 999,633.48  total analysis time at risk and under observation\n",
      "                                                At risk from t =         0\n",
      "                                     Earliest observed entry t =         0\n",
      "                                          Last observed exit t =  18.18207\n"
     ]
    }
   ],
   "source": [
    "use ${repo}esrdRisk_t02tT, clear\n",
    "tab donor rSMGJcEdF_d\n",
    "g entry = rSMGJcEdF_t0\n",
    "//linkage for donors after 2011 is untrustworthy\n",
    "replace rSMGJcEdF_d=0 if rSMGJcEdF_tT > d(31dec2011)\n",
    "replace rSMGJcEdF_tT = d(31dec2011) if rSMGJcEdF_tT > d(31dec2011)\n",
    "//linkage before 1994 is untrustworthy\n",
    "#delimit ;\n",
    "replace entry = d(01jan1994) if  \n",
    "    entry < d(01jan1994) &  \n",
    "\trSMGJcEdF_tT > d(01jan1994); \n",
    "stset rSMGJcEdF_tT,  \n",
    "    origin(rSMGJcEdF_t0)  \n",
    "\tentry(`entry')  \n",
    "\tfail(rSMGJcEdF_d==2)  \n",
    "\tscale(365.25); \n",
    "\n",
    "#delimit cr"
   ]
  },
  {
   "cell_type": "code",
   "execution_count": 55,
   "metadata": {
    "tags": [
     "hide-output"
    ]
   },
   "outputs": [
    {
     "name": "stdout",
     "output_type": "stream",
     "text": [
      "\n",
      "        Failure _d: rSMGJcEdF_d==2\n",
      "  Analysis time _t: (rSMGJcEdF_tT-origin)/365.25\n",
      "            Origin: time rSMGJcEdF_t0\n",
      "\n",
      "Iteration 0:  Log likelihood = -18528.127\n",
      "Iteration 1:  Log likelihood = -18236.065\n",
      "Iteration 2:  Log likelihood = -18188.769\n",
      "Iteration 3:  Log likelihood = -18188.762\n",
      "Refining estimates:\n",
      "Iteration 0:  Log likelihood = -18188.762\n",
      "\n",
      "Cox regression with Breslow method for ties\n",
      "\n",
      "No. of subjects =     105,581                          Number of obs = 105,581\n",
      "No. of failures =       1,709\n",
      "Time at risk    = 905,937.446\n",
      "                                                       LR chi2(1)    =  678.73\n",
      "Log likelihood = -18188.762                            Prob > chi2   =  0.0000\n",
      "\n",
      "-------------------------------------------------------------------------------\n",
      "           _t | Haz. ratio   Std. err.      z    P>|z|     [95% conf. interval]\n",
      "--------------+----------------------------------------------------------------\n",
      "        donor |\n",
      "HealthyNon~r  |   3.932226   .1970064    27.33   0.000     3.564453    4.337945\n",
      "-------------------------------------------------------------------------------\n"
     ]
    }
   ],
   "source": [
    "stcox i.donor if inlist(donor,1,2)"
   ]
  },
  {
   "cell_type": "code",
   "execution_count": 67,
   "metadata": {},
   "outputs": [
    {
     "name": "stdout",
     "output_type": "stream",
     "text": [
      "\n",
      "        Failure _d: rSMGJcEdF_d==2\n",
      "  Analysis time _t: (rSMGJcEdF_tT-origin)/365.25\n",
      "            Origin: time rSMGJcEdF_t0\n",
      "\n",
      "Iteration 0:  Log likelihood = -7369.9489\n",
      "Iteration 1:  Log likelihood = -6797.8396\n",
      "Iteration 2:  Log likelihood = -6587.7124\n",
      "Iteration 3:  Log likelihood = -6550.0726\n",
      "Iteration 4:  Log likelihood = -6549.9168\n",
      "Iteration 5:  Log likelihood = -6549.9168\n",
      "Refining estimates:\n",
      "Iteration 0:  Log likelihood = -6549.9168\n",
      "\n",
      "Cox regression with Breslow method for ties\n",
      "\n",
      "No. of subjects =     40,407                           Number of obs =  40,407\n",
      "No. of failures =        789\n",
      "Time at risk    = 229,660.14\n",
      "                                                       LR chi2(13)   = 1640.06\n",
      "Log likelihood = -6549.9168                            Prob > chi2   =  0.0000\n",
      "\n",
      "-------------------------------------------------------------------------------\n",
      "           _t | Haz. ratio   Std. err.      z    P>|z|     [95% conf. interval]\n",
      "--------------+----------------------------------------------------------------\n",
      "        donor |\n",
      "HealthyNon~r  |   2.551067    .394816     6.05   0.000     1.883587     3.45508\n",
      "      don_age |   1.078138   .0035652    22.75   0.000     1.071173    1.085148\n",
      "   don_female |   .6891149   .0540845    -4.74   0.000     .5908618    .8037064\n",
      "              |\n",
      "don_race_ethn |\n",
      "       Black  |   1.338166   .1222157     3.19   0.001     1.118843    1.600482\n",
      "    Hispanic  |   .8493195   .0849092    -1.63   0.102     .6981901    1.033162\n",
      "              |\n",
      "   don_educat |\n",
      "AttendedCo~e  |   .8096594    .085284    -2.00   0.045     .6586317    .9953185\n",
      "CollegeGra~e  |   .4857873   .0819362    -4.28   0.000     .3490411    .6761073\n",
      " PostCollege  |   .4831805   .0894342    -3.93   0.000      .336168    .6944843\n",
      "              |\n",
      " don_hyperten |   .2835048   .2854837    -1.25   0.211     .0393929    2.040344\n",
      "    don_smoke |   1.561325   .1249769     5.57   0.000     1.334623    1.826535\n",
      "      don_bmi |   .9706489   .0082164    -3.52   0.000     .9546779    .9868871\n",
      "don_bp_pr~yst |   1.011765   .0020861     5.67   0.000     1.007685    1.015862\n",
      "     don_egfr |   1.011178   .0030357     3.70   0.000     1.005246    1.017146\n",
      "-------------------------------------------------------------------------------\n"
     ]
    }
   ],
   "source": [
    "stcox i.donor don_age don_female i.don_race i.don_educat don_hyperten don_smoke don_bmi don_bp_preop_syst  don_egfr if inlist(donor,1,2), basesurv(s0_v1)"
   ]
  },
  {
   "cell_type": "code",
   "execution_count": 95,
   "metadata": {
    "tags": [
     "hide-output"
    ]
   },
   "outputs": [
    {
     "name": "stdout",
     "output_type": "stream",
     "text": [
      "(file /Users/apollo/documents/liveserver/age/s0_v1.csv not found)\n",
      "file /Users/apollo/documents/liveserver/age/s0_v1.csv saved\n"
     ]
    }
   ],
   "source": [
    "\n",
    "export delimited _t s0_v1 using \"~/documents/liveserver/age/s0_v1.csv\", replace"
   ]
  },
  {
   "cell_type": "code",
   "execution_count": 59,
   "metadata": {
    "tags": [
     "hide-output"
    ]
   },
   "outputs": [
    {
     "name": "stdout",
     "output_type": "stream",
     "text": [
      "\n",
      "               donor |      Freq.     Percent        Cum.\n",
      "---------------------+-----------------------------------\n",
      "               Donor |     31,786       78.66       78.66\n",
      "     HealthyNondonor |      8,621       21.34      100.00\n",
      "---------------------+-----------------------------------\n",
      "               Total |     40,407      100.00\n"
     ]
    }
   ],
   "source": [
    "tab donor if !missing(s0_v1)"
   ]
  },
  {
   "cell_type": "markdown",
   "metadata": {},
   "source": [
    "To create a CSV of the coefficient vector in Stata, you’ll need to extract the matrix and then export it to a CSV file. Here’s how you can do it:"
   ]
  },
  {
   "cell_type": "code",
   "execution_count": 60,
   "metadata": {
    "tags": [
     "hide-output"
    ]
   },
   "outputs": [
    {
     "name": "stdout",
     "output_type": "stream",
     "text": [
      "\n",
      "\n",
      "\n",
      "m[1,16]\n",
      "              1b.            2.                                       1b.\n",
      "           donor         donor       don_age    don_female  don_race_e~n\n",
      "y1             0     .93651165     .07523544    -.37234725             0\n",
      "\n",
      "               2.            3.           1b.            2.            3.\n",
      "    don_race_e~n  don_race_e~n    don_educat    don_educat    don_educat\n",
      "y1      .2912999    -.16331986             0     -.2111416    -.72198445\n",
      "\n",
      "               4.                                                        \n",
      "      don_educat  don_hyperten     don_smoke       don_bmi  don_bp_p~yst\n",
      "y1    -.72736496    -1.2605261     .44553478    -.02979048     .01169634\n",
      "\n",
      "                 \n",
      "        don_egfr\n",
      "y1     .01111633\n",
      "\n",
      "2.5510669\n"
     ]
    }
   ],
   "source": [
    "matrix define m=e(b)\n",
    "matrix list m\n",
    "di exp(m[1,2])"
   ]
  },
  {
   "cell_type": "markdown",
   "metadata": {},
   "source": [
    "Convert the matrix into a form that can be saved as a CSV. This involves using the `svmat` command to save the matrix as a variable in a dataset."
   ]
  },
  {
   "cell_type": "code",
   "execution_count": 61,
   "metadata": {},
   "outputs": [],
   "source": [
    "capture svmat m\n"
   ]
  },
  {
   "cell_type": "code",
   "execution_count": 62,
   "metadata": {
    "tags": [
     "hide-output"
    ]
   },
   "outputs": [
    {
     "name": "stdout",
     "output_type": "stream",
     "text": [
      "\n",
      "        +------------------------------------------------------------------+\n",
      "     1. | m1 |       m2 |       m3 |        m4 | m5 |       m6 |        m7 |\n",
      "        |  0 | .9365116 | .0752354 | -.3723472 |  0 | .2912999 | -.1633199 |\n",
      "        |----+-------------------------------------------------+-----------|\n",
      "        | m8 |        m9 |       m10  |      m11  |       m12  |      m13  |\n",
      "        |  0 | -.2111416 | -.7219844  | -.727365  | -1.260526  | .4455348  |\n",
      "        |------------------------------------------------------------------|\n",
      "        |            m14       |           m15       |           m16       |\n",
      "        |      -.0297905       |      .0116963       |      .0111163       |\n",
      "        +------------------------------------------------------------------+\n",
      "\n",
      "        +------------------------------------------------------------------+\n",
      "     2. | m1 |       m2 |       m3 |        m4 | m5 |       m6 |        m7 |\n",
      "        |  . |        . |        . |         . |  . |        . |         . |\n",
      "        |----+-------------------------------------------------+-----------|\n",
      "        | m8 |        m9 |       m10  |      m11  |       m12  |      m13  |\n",
      "        |  . |         . |         .  |        .  |         .  |        .  |\n",
      "        |------------------------------------------------------------------|\n",
      "        |            m14       |           m15       |           m16       |\n",
      "        |              .       |             .       |             .       |\n",
      "        +------------------------------------------------------------------+\n",
      "\n",
      "        +------------------------------------------------------------------+\n",
      "     3. | m1 |       m2 |       m3 |        m4 | m5 |       m6 |        m7 |\n",
      "        |  . |        . |        . |         . |  . |        . |         . |\n",
      "        |----+-------------------------------------------------+-----------|\n",
      "        | m8 |        m9 |       m10  |      m11  |       m12  |      m13  |\n",
      "        |  . |         . |         .  |        .  |         .  |        .  |\n",
      "        |------------------------------------------------------------------|\n",
      "        |            m14       |           m15       |           m16       |\n",
      "        |              .       |             .       |             .       |\n",
      "        +------------------------------------------------------------------+\n",
      "\n",
      "        +------------------------------------------------------------------+\n",
      "     4. | m1 |       m2 |       m3 |        m4 | m5 |       m6 |        m7 |\n",
      "        |  . |        . |        . |         . |  . |        . |         . |\n",
      "        |----+-------------------------------------------------+-----------|\n",
      "        | m8 |        m9 |       m10  |      m11  |       m12  |      m13  |\n",
      "        |  . |         . |         .  |        .  |         .  |        .  |\n",
      "        |------------------------------------------------------------------|\n",
      "        |            m14       |           m15       |           m16       |\n",
      "        |              .       |             .       |             .       |\n",
      "        +------------------------------------------------------------------+\n",
      "\n",
      "        +------------------------------------------------------------------+\n",
      "     5. | m1 |       m2 |       m3 |        m4 | m5 |       m6 |        m7 |\n",
      "        |  . |        . |        . |         . |  . |        . |         . |\n",
      "        |----+-------------------------------------------------+-----------|\n",
      "        | m8 |        m9 |       m10  |      m11  |       m12  |      m13  |\n",
      "        |  . |         . |         .  |        .  |         .  |        .  |\n",
      "        |------------------------------------------------------------------|\n",
      "        |            m14       |           m15       |           m16       |\n",
      "        |              .       |             .       |             .       |\n",
      "        +------------------------------------------------------------------+\n",
      "\n",
      "        +------------------------------------------------------------------+\n",
      "     6. | m1 |       m2 |       m3 |        m4 | m5 |       m6 |        m7 |\n",
      "        |  . |        . |        . |         . |  . |        . |         . |\n",
      "        |----+-------------------------------------------------+-----------|\n",
      "        | m8 |        m9 |       m10  |      m11  |       m12  |      m13  |\n",
      "        |  . |         . |         .  |        .  |         .  |        .  |\n",
      "        |------------------------------------------------------------------|\n",
      "        |            m14       |           m15       |           m16       |\n",
      "        |              .       |             .       |             .       |\n",
      "        +------------------------------------------------------------------+\n",
      "\n",
      "        +------------------------------------------------------------------+\n",
      "     7. | m1 |       m2 |       m3 |        m4 | m5 |       m6 |        m7 |\n",
      "        |  . |        . |        . |         . |  . |        . |         . |\n",
      "        |----+-------------------------------------------------+-----------|\n",
      "        | m8 |        m9 |       m10  |      m11  |       m12  |      m13  |\n",
      "        |  . |         . |         .  |        .  |         .  |        .  |\n",
      "        |------------------------------------------------------------------|\n",
      "        |            m14       |           m15       |           m16       |\n",
      "        |              .       |             .       |             .       |\n",
      "        +------------------------------------------------------------------+\n",
      "\n",
      "        +------------------------------------------------------------------+\n",
      "     8. | m1 |       m2 |       m3 |        m4 | m5 |       m6 |        m7 |\n",
      "        |  . |        . |        . |         . |  . |        . |         . |\n",
      "        |----+-------------------------------------------------+-----------|\n",
      "        | m8 |        m9 |       m10  |      m11  |       m12  |      m13  |\n",
      "        |  . |         . |         .  |        .  |         .  |        .  |\n",
      "        |------------------------------------------------------------------|\n",
      "        |            m14       |           m15       |           m16       |\n",
      "        |              .       |             .       |             .       |\n",
      "        +------------------------------------------------------------------+\n",
      "\n",
      "        +------------------------------------------------------------------+\n",
      "     9. | m1 |       m2 |       m3 |        m4 | m5 |       m6 |        m7 |\n",
      "        |  . |        . |        . |         . |  . |        . |         . |\n",
      "        |----+-------------------------------------------------+-----------|\n",
      "        | m8 |        m9 |       m10  |      m11  |       m12  |      m13  |\n",
      "        |  . |         . |         .  |        .  |         .  |        .  |\n",
      "        |------------------------------------------------------------------|\n",
      "        |            m14       |           m15       |           m16       |\n",
      "        |              .       |             .       |             .       |\n",
      "        +------------------------------------------------------------------+\n",
      "--more--\n"
     ]
    }
   ],
   "source": [
    "list m*"
   ]
  },
  {
   "cell_type": "code",
   "execution_count": 63,
   "metadata": {
    "tags": [
     "hide-output"
    ]
   },
   "outputs": [],
   "source": [
    "keep m*"
   ]
  },
  {
   "cell_type": "markdown",
   "metadata": {},
   "source": [
    "Now, you can export this dataset to a CSV file:"
   ]
  },
  {
   "cell_type": "code",
   "execution_count": 64,
   "metadata": {},
   "outputs": [
    {
     "name": "stdout",
     "output_type": "stream",
     "text": [
      "\n",
      "(113,656 observations deleted)\n",
      "\n",
      "file don_nondon_v1.csv saved\n"
     ]
    }
   ],
   "source": [
    "drop if missing(m1)\n",
    "export delimited using \"don_nondon_v1.csv\", replace"
   ]
  }
 ],
 "metadata": {
  "kernelspec": {
   "display_name": "Stata",
   "language": "stata",
   "name": "stata"
  },
  "language_info": {
   "codemirror_mode": "stata",
   "file_extension": ".do",
   "mimetype": "text/x-stata",
   "name": "stata",
   "version": "15.1"
  },
  "widgets": {
   "application/vnd.jupyter.widget-state+json": {
    "state": {},
    "version_major": 2,
    "version_minor": 0
   }
  }
 },
 "nbformat": 4,
 "nbformat_minor": 4
}
