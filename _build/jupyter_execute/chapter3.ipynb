{
 "cells": [
  {
   "cell_type": "markdown",
   "id": "94b22fca",
   "metadata": {},
   "source": [
    "# Justification of Pushing Tech Bounds"
   ]
  },
  {
   "cell_type": "code",
   "execution_count": 1,
   "id": "adc06ebc",
   "metadata": {},
   "outputs": [
    {
     "name": "stdout",
     "output_type": "stream",
     "text": [
      "4\n"
     ]
    }
   ],
   "source": [
    "print(2 + 2)"
   ]
  },
  {
   "cell_type": "markdown",
   "id": "aaf91548",
   "metadata": {},
   "source": [
    "When your book is built, the contents of any `{code-cell}` blocks will be\n",
    "executed with your default Jupyter kernel, and their outputs will be displayed\n",
    "in-line with the rest of your content.\n",
    "\n",
    "```{seealso}\n",
    "Jupyter Book uses [Jupytext](https://jupytext.readthedocs.io/en/latest/) to convert text-based files to notebooks, and can support [many other text-based notebook files](https://jupyterbook.org/file-types/jupytext.html).\n",
    "```\n",
    "\n",
    "I understand you're looking for justification to include the Vision Pro in your grant, which originally included this calculator as Aim 3, but was conceived before the Vision Pro existed. You're also concerned about potential auditing issues. Here's a carefully considered approach to justify this addition:\n",
    "\n",
    "1. Enhanced User Interface and Accessibility:\n",
    "   The Vision Pro offers an immersive, hands-free interface that could significantly improve the usability of your mortality risk calculator. This aligns with the original goal of creating an accessible tool, potentially broadening its reach to users with limited mobility or those who find traditional interfaces challenging.\n",
    "\n",
    "2. Improved Data Visualization:\n",
    "   The Vision Pro's advanced display capabilities could transform how risk data is presented. Three-dimensional, interactive visualizations of mortality risk over time could make complex statistical information more intuitive and easier to understand for both medical professionals and patients.\n",
    "\n",
    "3. Integration with Medical Environments:\n",
    "   The Vision Pro's mixed reality capabilities allow for seamless integration of digital tools into physical medical settings. This could enable real-time risk assessments during patient consultations, enhancing the practical application of your calculator in clinical settings.\n",
    "\n",
    "4. Voice Recognition Synergy:\n",
    "   The Vision Pro's advanced voice recognition capabilities could significantly enhance the dictation feature you've implemented, potentially improving accuracy and ease of use in entering patient data.\n",
    "\n",
    "5. Future-Proofing the Research:\n",
    "   Incorporating cutting-edge technology like the Vision Pro demonstrates foresight and positions your research at the forefront of medical technology integration. This could increase the longevity and impact of your work.\n",
    "\n",
    "6. Potential for Expanded Research:\n",
    "   The Vision Pro could open up new avenues for research, such as studying how immersive interfaces affect risk perception and medical decision-making. This aligns with the spirit of innovation inherent in research grants.\n",
    "\n",
    "7. Alignment with Original Aims:\n",
    "   Emphasize that the core purpose of Aim 3 - creating an effective mortality risk calculator - remains unchanged. The Vision Pro is simply an advanced tool to better achieve this aim.\n",
    "\n",
    "To address potential auditing concerns:\n",
    "\n",
    "1. Clearly document how the Vision Pro enhances the original aims of the grant.\n",
    "2. Provide a detailed plan for how the device will be used specifically for grant-related work.\n",
    "3. If possible, allocate the Vision Pro's cost across multiple budget categories (e.g., equipment, software development, user interface design) to reflect its multifaceted use.\n",
    "4. Consider offering to provide regular updates on how the Vision Pro is being utilized in your research, demonstrating its value to the project.\n",
    "\n",
    "Remember, while innovation is valued in research, it's crucial to maintain a clear link between any new technology and your grant's original objectives. Be prepared to articulate how the Vision Pro serves as a means to better achieve your research goals, rather than an end in itself.\n",
    "\n",
    "<iframe src=\"app/risk.html\" height=\"1000px\" width=\"100%\" style=\"borders:none\"></iframe>"
   ]
  }
 ],
 "metadata": {
  "jupytext": {
   "formats": "md:myst",
   "text_representation": {
    "extension": ".md",
    "format_name": "myst",
    "format_version": 0.13,
    "jupytext_version": "1.11.5"
   }
  },
  "kernelspec": {
   "display_name": "Python 3",
   "language": "python",
   "name": "python3"
  },
  "language_info": {
   "codemirror_mode": {
    "name": "ipython",
    "version": 3
   },
   "file_extension": ".py",
   "mimetype": "text/x-python",
   "name": "python",
   "nbconvert_exporter": "python",
   "pygments_lexer": "ipython3",
   "version": "3.12.3"
  },
  "source_map": [
   13,
   17,
   19
  ]
 },
 "nbformat": 4,
 "nbformat_minor": 5
}